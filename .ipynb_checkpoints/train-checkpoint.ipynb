{
 "cells": [
  {
   "cell_type": "code",
   "execution_count": 7,
   "id": "bdI_mmxYsKvF",
   "metadata": {
    "executionInfo": {
     "elapsed": 5906,
     "status": "ok",
     "timestamp": 1698593571584,
     "user": {
      "displayName": "申牧義",
      "userId": "07372378923452571676"
     },
     "user_tz": -480
    },
    "id": "bdI_mmxYsKvF"
   },
   "outputs": [],
   "source": [
    "import torch\n",
    "from model import *\n",
    "import numpy as np\n",
    "import os\n",
    "import random\n",
    "import torch.optim as optim\n",
    "import torch.nn as nn\n",
    "from Myloader import *\n",
    "import time\n",
    "import torchvision.models as models\n",
    "from torchmetrics.classification import MultilabelAveragePrecision\n",
    "from sklearn.metrics import average_precision_score\n",
    "import matplotlib.pyplot as plt"
   ]
  },
  {
   "cell_type": "code",
   "execution_count": 8,
   "id": "JbVO76fMsN6z",
   "metadata": {
    "executionInfo": {
     "elapsed": 4,
     "status": "ok",
     "timestamp": 1698593663020,
     "user": {
      "displayName": "申牧義",
      "userId": "07372378923452571676"
     },
     "user_tz": -480
    },
    "id": "JbVO76fMsN6z"
   },
   "outputs": [],
   "source": [
    "def set_seed(seed):\n",
    "    torch.manual_seed(seed)\n",
    "    torch.cuda.manual_seed(seed)\n",
    "    torch.cuda.manual_seed_all(seed)\n",
    "    np.random.seed(seed)\n",
    "    random.seed(seed)\n",
    "    torch.backends.cudnn.benchmark = False\n",
    "    torch.backends.cudnn.deterministic = True\n",
    "\n",
    "\n",
    "def evaluate(model, val_loader):\n",
    "    model.eval()\n",
    "    test_running_loss = 0.0\n",
    "    test_total = 0\n",
    "\n",
    "    with torch.no_grad():\n",
    "        record_target_label = torch.zeros(1, 19).to(device)\n",
    "        record_predict_label = torch.zeros(1, 19).to(device)\n",
    "        for (test_imgs, test_labels, test_dicoms) in val_loader:\n",
    "            test_imgs = test_imgs.to(device)\n",
    "            test_labels = test_labels.to(device)\n",
    "            test_labels = test_labels.squeeze(-1)\n",
    "\n",
    "            test_output = model(test_imgs)\n",
    "            loss = criterion(test_output, test_labels)\n",
    "\n",
    "            test_running_loss += loss.item() * test_imgs.size(0)\n",
    "            test_total += test_imgs.size(0)\n",
    "\n",
    "            record_target_label = torch.cat((record_target_label, test_labels), 0)\n",
    "            record_predict_label = torch.cat((record_predict_label, test_output), 0)\n",
    "\n",
    "\n",
    "        record_target_label = record_target_label[1::]\n",
    "        record_predict_label = record_predict_label[1::]\n",
    "\n",
    "        metric = MultilabelAveragePrecision(num_labels=19, average=\"macro\", thresholds=None)\n",
    "        mAP = metric(record_predict_label, record_target_label.to(torch.int32))\n",
    "\n",
    "    return mAP, test_running_loss, test_total"
   ]
  },
  {
   "cell_type": "code",
   "execution_count": 9,
   "id": "98IxbEK7snTT",
   "metadata": {
    "executionInfo": {
     "elapsed": 4,
     "status": "ok",
     "timestamp": 1698593829205,
     "user": {
      "displayName": "申牧義",
      "userId": "07372378923452571676"
     },
     "user_tz": -480
    },
    "id": "98IxbEK7snTT"
   },
   "outputs": [],
   "source": [
    "# set_seed(123)\n",
    "#     weight_dir = \"\"\n",
    "#     if not os.path.exists(weight_dir):\n",
    "#         os.makedirs(weight_dir)\n",
    "\n",
    "epochs = 100\n",
    "batch_size = 32\n",
    "num_classes = 19\n",
    "\n",
    "weight_path = \"weights/\"\n",
    "\n",
    "train_path = \"data/MICCAI_long_tail_train.tfrecords\"\n",
    "train_index = \"data/MICCAI_long_tail_train.tfindex\"\n",
    "val_path = \"data/MICCAI_long_tail_val.tfrecords\"\n",
    "val_index = \"data/MICCAI_long_tail_val.tfindex\"\n",
    "opt_lr = 1e-4\n",
    "weight_decay = 0\n",
    "training = True\n",
    "train_name = \"\"\n",
    "val_name = \"\""
   ]
  },
  {
   "cell_type": "code",
   "execution_count": 10,
   "id": "aLyrClybsrF0",
   "metadata": {
    "colab": {
     "base_uri": "https://localhost:8080/"
    },
    "executionInfo": {
     "elapsed": 6577,
     "status": "ok",
     "timestamp": 1698593684914,
     "user": {
      "displayName": "申牧義",
      "userId": "07372378923452571676"
     },
     "user_tz": -480
    },
    "id": "aLyrClybsrF0",
    "outputId": "0ce4e2d7-9f6c-4583-caff-b8ca2cfddff8"
   },
   "outputs": [
    {
     "name": "stdout",
     "output_type": "stream",
     "text": [
      "cuda\n"
     ]
    }
   ],
   "source": [
    "device = torch.device(\"cuda\" if torch.cuda.is_available() else \"cpu\")\n",
    "print(device)\n",
    "encoder = ResnetEncoder(num_layers=18, embDimension=num_classes).to(device)\n",
    "# checkpoint = torch.load(weight_path + \"/{}epoch.pt\".format(10))\n",
    "# encoder.load_state_dict(checkpoint['model_state_dict'])\n",
    "opt = optim.Adam(encoder.parameters(), lr=opt_lr, weight_decay = weight_decay)\n",
    "train_loader = Myloader(train_path, train_index, batch_size, num_workers=0, shuffle=True)\n",
    "val_loader = Myloader(val_path, val_index, batch_size, num_workers=0, shuffle=False)\n",
    "\n",
    "criterion = nn.BCEWithLogitsLoss()"
   ]
  },
  {
   "cell_type": "code",
   "execution_count": 20,
   "id": "8a33d195",
   "metadata": {},
   "outputs": [],
   "source": [
    "def evaluate2(model, val_loader):\n",
    "    model.eval()\n",
    "    test_running_loss = 0.0\n",
    "    test_total = 0\n",
    "\n",
    "    with torch.no_grad():\n",
    "        record_target_label = torch.zeros(1, 19).to(device)\n",
    "        record_predict_label = torch.zeros(1, 19).to(device)\n",
    "        cnt = 0\n",
    "        for (test_imgs, test_labels, test_dicoms) in val_loader:\n",
    "            cnt += 1\n",
    "            if cnt % 50 == 0:\n",
    "                print(\"Progress - {} / {}\".format(cnt*batch_size, 20000))\n",
    "            test_imgs = test_imgs.to(device)\n",
    "            test_labels = test_labels.to(device)\n",
    "            test_labels = test_labels.squeeze(-1)\n",
    "\n",
    "            test_output = model(test_imgs)\n",
    "            loss = criterion(test_output, test_labels)\n",
    "\n",
    "            test_running_loss += loss.item() * test_imgs.size(0)\n",
    "            test_total += test_imgs.size(0)\n",
    "\n",
    "            record_target_label = torch.cat((record_target_label, test_labels), 0)\n",
    "            record_predict_label = torch.cat((record_predict_label, test_output), 0)\n",
    "\n",
    "\n",
    "        record_target_label = record_target_label[1::]\n",
    "        record_predict_label = record_predict_label[1::]\n",
    "\n",
    "        # Convert tensors to NumPy arrays\n",
    "        y_true = record_target_label.cpu().numpy()\n",
    "        y_scores = record_predict_label.cpu().numpy()\n",
    "\n",
    "        average_precisions = []\n",
    "        for i in range(y_true.shape[1]):\n",
    "            average_precisions.append(average_precision_score(y_true[:, i], y_scores[:, i]))\n",
    "\n",
    "            \n",
    "        return average_precisions"
   ]
  },
  {
   "cell_type": "code",
   "execution_count": 21,
   "id": "89c8b2ea",
   "metadata": {},
   "outputs": [
    {
     "name": "stdout",
     "output_type": "stream",
     "text": [
      "Progress - 1600 / 20000\n",
      "Progress - 3200 / 20000\n",
      "Progress - 4800 / 20000\n",
      "Progress - 6400 / 20000\n",
      "Progress - 8000 / 20000\n",
      "Progress - 9600 / 20000\n",
      "Progress - 11200 / 20000\n",
      "Progress - 12800 / 20000\n",
      "Progress - 14400 / 20000\n",
      "Progress - 16000 / 20000\n",
      "Progress - 17600 / 20000\n",
      "Progress - 19200 / 20000\n"
     ]
    }
   ],
   "source": [
    "ap = evaluate2(encoder, val_loader)"
   ]
  },
  {
   "cell_type": "code",
   "execution_count": 30,
   "id": "12c02a7c",
   "metadata": {},
   "outputs": [
    {
     "data": {
      "image/png": "[encoded data removed]",
      "text/plain": [
       "<Figure size 720x432 with 1 Axes>"
      ]
     },
     "metadata": {
      "needs_background": "light"
     },
     "output_type": "display_data"
    }
   ],
   "source": [
    "t1_class_names = ['Atelectasis', 'Calcification of the Aorta', 'Cardiomegaly', 'Consolidation', 'Edema', 'Enlarged Cardiomediastinum',\n",
    "                  'Fracture', 'Lung Lesion', 'Lung Opacity', 'No Finding', 'Pleural Effusion', 'Pleural Other',\n",
    "                  'Pneumomediastinum', 'Pneumonia', 'Pneumoperitoneum', 'Pneumothorax', 'Subcutaneous Emphysema',\n",
    "                   'Support Devices', 'Tortuous Aorta']\n",
    "t1_ap_score = ap\n",
    "\n",
    "sorted_data = sorted(zip(t1_class_names, t1_ap_score), key=lambda x: x[1], reverse=True)\n",
    "sorted_class_names, sorted_occurrences = zip(*sorted_data)\n",
    "\n",
    "plt.figure(figsize=(10, 6))\n",
    "plt.bar(sorted_class_names, sorted_occurrences, color='green')\n",
    "plt.xlabel('Class Names')\n",
    "plt.ylabel('Number of Occurrences')\n",
    "plt.title('Occurrences of Classes (Sorted)')\n",
    "plt.xticks(rotation=45, ha='right')\n",
    "plt.tight_layout()\n",
    "plt.show()"
   ]
  },
  {
   "cell_type": "code",
   "execution_count": 27,
   "id": "ea7337fe",
   "metadata": {},
   "outputs": [
    {
     "name": "stdout",
     "output_type": "stream",
     "text": [
      "Support Devices: 0.8793046704112097\n",
      "Pleural Effusion: 0.7791633954916986\n",
      "Cardiomegaly: 0.6169515994267407\n",
      "Atelectasis: 0.5831777671375098\n",
      "Lung Opacity: 0.5387341883934145\n",
      "No Finding: 0.5243269391363358\n",
      "Edema: 0.5154767373804523\n",
      "Subcutaneous Emphysema: 0.45788259440370405\n",
      "Pneumothorax: 0.4103346241860422\n",
      "Pneumonia: 0.2746795695456896\n",
      "Consolidation: 0.17821099771093418\n",
      "Pneumomediastinum: 0.1666884318727992\n",
      "Enlarged Cardiomediastinum: 0.1621054669128692\n",
      "Fracture: 0.1267133383107479\n",
      "Calcification of the Aorta: 0.10441446471614746\n",
      "Tortuous Aorta: 0.061624755636038545\n",
      "Pneumoperitoneum: 0.056718958119725445\n",
      "Lung Lesion: 0.019216891069398626\n",
      "Pleural Other: 0.007358537557629101\n"
     ]
    }
   ],
   "source": [
    "for i in range(0, 19):\n",
    "    print(sorted_class_names[i] + \": {}\".format(sorted_occurrences[i]))"
   ]
  },
  {
   "cell_type": "code",
   "execution_count": 14,
   "id": "6e59a739",
   "metadata": {},
   "outputs": [
    {
     "name": "stdout",
     "output_type": "stream",
     "text": [
      "tensor(0.1372, device='cuda:0') 15696.87715625763 20360\n"
     ]
    }
   ],
   "source": [
    "print(mAP, test_running_loss, test_total )"
   ]
  },
  {
   "cell_type": "code",
   "execution_count": 6,
   "id": "hollywood-momentum",
   "metadata": {
    "colab": {
     "base_uri": "https://localhost:8080/"
    },
    "id": "hollywood-momentum",
    "outputId": "aabc8166-a3ad-4d16-eb1e-dcd71b9218dd"
   },
   "outputs": [
    {
     "name": "stdout",
     "output_type": "stream",
     "text": [
      "epoch 0: 1024/unknown finished / train loss: 0.46023833844810724\n"
     ]
    },
    {
     "ename": "KeyboardInterrupt",
     "evalue": "",
     "output_type": "error",
     "traceback": [
      "\u001b[1;31m---------------------------------------------------------------------------\u001b[0m",
      "\u001b[1;31mKeyboardInterrupt\u001b[0m                         Traceback (most recent call last)",
      "Input \u001b[1;32mIn [6]\u001b[0m, in \u001b[0;36m<cell line: 4>\u001b[1;34m()\u001b[0m\n\u001b[0;32m     30\u001b[0m     loss \u001b[38;5;241m=\u001b[39m criterion(output, labels)\n\u001b[0;32m     32\u001b[0m scaler\u001b[38;5;241m.\u001b[39mscale(loss)\u001b[38;5;241m.\u001b[39mbackward()\n\u001b[1;32m---> 33\u001b[0m \u001b[43mscaler\u001b[49m\u001b[38;5;241;43m.\u001b[39;49m\u001b[43mstep\u001b[49m\u001b[43m(\u001b[49m\u001b[43mopt\u001b[49m\u001b[43m)\u001b[49m\n\u001b[0;32m     34\u001b[0m scaler\u001b[38;5;241m.\u001b[39mupdate()\n\u001b[0;32m     36\u001b[0m running_loss \u001b[38;5;241m+\u001b[39m\u001b[38;5;241m=\u001b[39m loss\u001b[38;5;241m.\u001b[39mitem() \u001b[38;5;241m*\u001b[39m imgs\u001b[38;5;241m.\u001b[39msize(\u001b[38;5;241m0\u001b[39m)\n",
      "File \u001b[1;32m~\\anaconda3\\lib\\site-packages\\torch\\cuda\\amp\\grad_scaler.py:370\u001b[0m, in \u001b[0;36mGradScaler.step\u001b[1;34m(self, optimizer, *args, **kwargs)\u001b[0m\n\u001b[0;32m    366\u001b[0m     \u001b[38;5;28mself\u001b[39m\u001b[38;5;241m.\u001b[39munscale_(optimizer)\n\u001b[0;32m    368\u001b[0m \u001b[38;5;28;01massert\u001b[39;00m \u001b[38;5;28mlen\u001b[39m(optimizer_state[\u001b[38;5;124m\"\u001b[39m\u001b[38;5;124mfound_inf_per_device\u001b[39m\u001b[38;5;124m\"\u001b[39m]) \u001b[38;5;241m>\u001b[39m \u001b[38;5;241m0\u001b[39m, \u001b[38;5;124m\"\u001b[39m\u001b[38;5;124mNo inf checks were recorded for this optimizer.\u001b[39m\u001b[38;5;124m\"\u001b[39m\n\u001b[1;32m--> 370\u001b[0m retval \u001b[38;5;241m=\u001b[39m \u001b[38;5;28mself\u001b[39m\u001b[38;5;241m.\u001b[39m_maybe_opt_step(optimizer, optimizer_state, \u001b[38;5;241m*\u001b[39margs, \u001b[38;5;241m*\u001b[39m\u001b[38;5;241m*\u001b[39mkwargs)\n\u001b[0;32m    372\u001b[0m optimizer_state[\u001b[38;5;124m\"\u001b[39m\u001b[38;5;124mstage\u001b[39m\u001b[38;5;124m\"\u001b[39m] \u001b[38;5;241m=\u001b[39m OptState\u001b[38;5;241m.\u001b[39mSTEPPED\n\u001b[0;32m    374\u001b[0m \u001b[38;5;28;01mreturn\u001b[39;00m retval\n",
      "File \u001b[1;32m~\\anaconda3\\lib\\site-packages\\torch\\cuda\\amp\\grad_scaler.py:289\u001b[0m, in \u001b[0;36mGradScaler._maybe_opt_step\u001b[1;34m(self, optimizer, optimizer_state, *args, **kwargs)\u001b[0m\n\u001b[0;32m    287\u001b[0m \u001b[38;5;28;01mdef\u001b[39;00m \u001b[38;5;21m_maybe_opt_step\u001b[39m(\u001b[38;5;28mself\u001b[39m, optimizer, optimizer_state, \u001b[38;5;241m*\u001b[39margs, \u001b[38;5;241m*\u001b[39m\u001b[38;5;241m*\u001b[39mkwargs):\n\u001b[0;32m    288\u001b[0m     retval \u001b[38;5;241m=\u001b[39m \u001b[38;5;28;01mNone\u001b[39;00m\n\u001b[1;32m--> 289\u001b[0m     \u001b[38;5;28;01mif\u001b[39;00m \u001b[38;5;129;01mnot\u001b[39;00m \u001b[38;5;28;43msum\u001b[39;49m\u001b[43m(\u001b[49m\u001b[43mv\u001b[49m\u001b[38;5;241;43m.\u001b[39;49m\u001b[43mitem\u001b[49m\u001b[43m(\u001b[49m\u001b[43m)\u001b[49m\u001b[43m \u001b[49m\u001b[38;5;28;43;01mfor\u001b[39;49;00m\u001b[43m \u001b[49m\u001b[43mv\u001b[49m\u001b[43m \u001b[49m\u001b[38;5;129;43;01min\u001b[39;49;00m\u001b[43m \u001b[49m\u001b[43moptimizer_state\u001b[49m\u001b[43m[\u001b[49m\u001b[38;5;124;43m\"\u001b[39;49m\u001b[38;5;124;43mfound_inf_per_device\u001b[39;49m\u001b[38;5;124;43m\"\u001b[39;49m\u001b[43m]\u001b[49m\u001b[38;5;241;43m.\u001b[39;49m\u001b[43mvalues\u001b[49m\u001b[43m(\u001b[49m\u001b[43m)\u001b[49m\u001b[43m)\u001b[49m:\n\u001b[0;32m    290\u001b[0m         retval \u001b[38;5;241m=\u001b[39m optimizer\u001b[38;5;241m.\u001b[39mstep(\u001b[38;5;241m*\u001b[39margs, \u001b[38;5;241m*\u001b[39m\u001b[38;5;241m*\u001b[39mkwargs)\n\u001b[0;32m    291\u001b[0m     \u001b[38;5;28;01mreturn\u001b[39;00m retval\n",
      "File \u001b[1;32m~\\anaconda3\\lib\\site-packages\\torch\\cuda\\amp\\grad_scaler.py:289\u001b[0m, in \u001b[0;36m<genexpr>\u001b[1;34m(.0)\u001b[0m\n\u001b[0;32m    287\u001b[0m \u001b[38;5;28;01mdef\u001b[39;00m \u001b[38;5;21m_maybe_opt_step\u001b[39m(\u001b[38;5;28mself\u001b[39m, optimizer, optimizer_state, \u001b[38;5;241m*\u001b[39margs, \u001b[38;5;241m*\u001b[39m\u001b[38;5;241m*\u001b[39mkwargs):\n\u001b[0;32m    288\u001b[0m     retval \u001b[38;5;241m=\u001b[39m \u001b[38;5;28;01mNone\u001b[39;00m\n\u001b[1;32m--> 289\u001b[0m     \u001b[38;5;28;01mif\u001b[39;00m \u001b[38;5;129;01mnot\u001b[39;00m \u001b[38;5;28msum\u001b[39m(v\u001b[38;5;241m.\u001b[39mitem() \u001b[38;5;28;01mfor\u001b[39;00m v \u001b[38;5;129;01min\u001b[39;00m optimizer_state[\u001b[38;5;124m\"\u001b[39m\u001b[38;5;124mfound_inf_per_device\u001b[39m\u001b[38;5;124m\"\u001b[39m]\u001b[38;5;241m.\u001b[39mvalues()):\n\u001b[0;32m    290\u001b[0m         retval \u001b[38;5;241m=\u001b[39m optimizer\u001b[38;5;241m.\u001b[39mstep(\u001b[38;5;241m*\u001b[39margs, \u001b[38;5;241m*\u001b[39m\u001b[38;5;241m*\u001b[39mkwargs)\n\u001b[0;32m    291\u001b[0m     \u001b[38;5;28;01mreturn\u001b[39;00m retval\n",
      "\u001b[1;31mKeyboardInterrupt\u001b[0m: "
     ]
    }
   ],
   "source": [
    "train_losses = []\n",
    "test_losses = []\n",
    "\n",
    "if training == True:\n",
    "    max_map = 0\n",
    "    total = 0\n",
    "    scaler = torch.cuda.amp.GradScaler()\n",
    "\n",
    "    for epoch in range(epochs):\n",
    "        encoder.train()\n",
    "        running_loss = 0.0\n",
    "        start_time = time.time()\n",
    "        count = 0\n",
    "\n",
    "        for (imgs, labels, dicom_ids) in train_loader:\n",
    "            encoder.zero_grad()\n",
    "            opt.zero_grad()\n",
    "\n",
    "            imgs = imgs.to(device)\n",
    "            labels = labels.to(device)\n",
    "            labels = labels.squeeze(-1)\n",
    "\n",
    "            with torch.autocast(device_type='cuda', dtype=torch.float16):\n",
    "                output = encoder(imgs)\n",
    "                loss = criterion(output, labels)\n",
    "\n",
    "            scaler.scale(loss).backward()\n",
    "            scaler.step(opt)\n",
    "            scaler.update()\n",
    "\n",
    "            running_loss += loss.item() * imgs.size(0)\n",
    "            count += imgs.size(0)\n",
    "\n",
    "            if count != 0 and count % 1024 == 0 and total == 0:\n",
    "                print(f\"epoch {epoch}: {count}/unknown finished / train loss: {running_loss / count}\")\n",
    "\n",
    "            elif count != 0 and count % 10 == 0 and total != 0:\n",
    "                print(f\"epoch {epoch}: {count}/{total} (%.2f %%) finished / train loss: {running_loss / count}\" % (count/total))\n",
    "\n",
    "        total = count\n",
    "        mAP, test_running_loss, test_total = evaluate(encoder, val_loader)\n",
    "        \n",
    "        train_losses.append(running_loss / count)\n",
    "        test_losses.append(test_running_loss)\n",
    "        \n",
    "        if mAP > max_map:\n",
    "            max_map = mAP\n",
    "            torch.save({\n",
    "                'model_state_dict': encoder.state_dict(),\n",
    "                'optimizer_state_dict': opt.state_dict(),\n",
    "            }, f\"{weight_path}/model_best.pt\")\n",
    "        if epoch % 10 == 0:\n",
    "            torch.save({\n",
    "                    'model_state_dict': encoder.state_dict(),\n",
    "                    'optimizer_state_dict': opt.state_dict(),\n",
    "                }, weight_path+\"/{}epoch.pt\".format(epoch))\n",
    "\n",
    "        end_time = time.time()\n",
    "        duration = end_time - start_time\n",
    "\n",
    "        print(f\"epoch {epoch} / mAP: {mAP} / test loss: {test_running_loss / test_total} / duration: {duration}\")\n",
    "\n",
    "\n",
    "\n"
   ]
  },
  {
   "cell_type": "code",
   "execution_count": null,
   "id": "a9475ae2",
   "metadata": {},
   "outputs": [],
   "source": []
  }
 ],
 "metadata": {
  "accelerator": "GPU",
  "colab": {
   "gpuType": "T4",
   "provenance": []
  },
  "kernelspec": {
   "display_name": "Python 3 (ipykernel)",
   "language": "python",
   "name": "python3"
  },
  "language_info": {
   "codemirror_mode": {
    "name": "ipython",
    "version": 3
   },
   "file_extension": ".py",
   "mimetype": "text/x-python",
   "name": "python",
   "nbconvert_exporter": "python",
   "pygments_lexer": "ipython3",
   "version": "3.9.12"
  }
 },
 "nbformat": 4,
 "nbformat_minor": 5
}
